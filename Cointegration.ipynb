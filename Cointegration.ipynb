{
 "cells": [
  {
   "cell_type": "code",
   "execution_count": 16,
   "id": "6abc09a4",
   "metadata": {},
   "outputs": [],
   "source": [
    "import pandas as pd\n",
    "import os\n",
    "import numpy as np\n",
    "from statsmodels.tsa.vector_ar.vecm import coint_johansen\n",
    "from statsmodels.tsa.vector_ar.vecm import select_coint_rank\n",
    "import datetime\n",
    "import matplotlib\n",
    "from statsmodels.tsa.stattools import adfuller\n",
    "%matplotlib notebook\n",
    "\n",
    "os.getcwd()\n",
    "\n",
    "data = pd.read_csv('C:/Users/D110148/OneDrive - pzem/data/Cointegration_Test.csv', sep = \";\")\n",
    "data.index = [pd.to_datetime(i) for i in data['Index']]\n",
    "data = data.iloc[:,1:]\n",
    "data.where(data == 'NaN', np.nan)\n",
    "data.interpolate(inplace=True)\n",
    "\n",
    "data_to_coint = data[[data.columns[2],data.columns[4],data.columns[5]]]\n",
    "results = coint_johansen(data_to_coint[data_to_coint.index > datetime.datetime(2021,6,23)], det_order = 0,k_ar_diff=2)"
   ]
  },
  {
   "cell_type": "code",
   "execution_count": 26,
   "id": "f72f7a63",
   "metadata": {},
   "outputs": [
    {
     "data": {
      "text/plain": [
       "(array([12.0880841 ,  4.53049907,  0.60102007]),\n",
       " array([[18.8928, 21.1314, 25.865 ],\n",
       "        [12.2971, 14.2639, 18.52  ],\n",
       "        [ 2.7055,  3.8415,  6.6349]]))"
      ]
     },
     "execution_count": 26,
     "metadata": {},
     "output_type": "execute_result"
    }
   ],
   "source": [
    "results.max_eig_stat, results.max_eig_stat_crit_vals"
   ]
  },
  {
   "cell_type": "code",
   "execution_count": 18,
   "id": "f0133bc5",
   "metadata": {},
   "outputs": [
    {
     "data": {
      "text/plain": [
       "array([[18.8928, 21.1314, 25.865 ],\n",
       "       [12.2971, 14.2639, 18.52  ],\n",
       "       [ 2.7055,  3.8415,  6.6349]])"
      ]
     },
     "execution_count": 18,
     "metadata": {},
     "output_type": "execute_result"
    }
   ],
   "source": [
    "results.trace_stat, results.trace_stat_crit_vals"
   ]
  },
  {
   "cell_type": "code",
   "execution_count": 19,
   "id": "77e892d7",
   "metadata": {},
   "outputs": [
    {
     "data": {
      "text/plain": [
       "(array([17.21960324,  5.13151914,  0.60102007]),\n",
       " array([[27.0669, 29.7961, 35.4628],\n",
       "        [13.4294, 15.4943, 19.9349],\n",
       "        [ 2.7055,  3.8415,  6.6349]]))"
      ]
     },
     "execution_count": 19,
     "metadata": {},
     "output_type": "execute_result"
    }
   ],
   "source": [
    "results2=select_coint_rank(data_to_coint[data_to_coint.index > datetime.datetime(2021,6,23)], det_order = 0,k_ar_diff=2)"
   ]
  },
  {
   "cell_type": "code",
   "execution_count": 27,
   "id": "63db8ccc",
   "metadata": {},
   "outputs": [
    {
     "data": {
      "text/html": [
       "<table class=\"simpletable\">\n",
       "<caption>Johansen cointegration test using trace test statistic with 5% significance level</caption>\n",
       "<tr>\n",
       "  <th>r_0</th> <th>r_1</th> <th>test statistic</th> <th>critical value</th>\n",
       "</tr>\n",
       "<tr>\n",
       "    <td>0</td>   <td>3</td>          <td>17.22</td>          <td>29.80</td>\n",
       "</tr>\n",
       "</table>"
      ],
      "text/plain": [
       "<class 'statsmodels.iolib.table.SimpleTable'>"
      ]
     },
     "execution_count": 27,
     "metadata": {},
     "output_type": "execute_result"
    }
   ],
   "source": [
    "results2.summary()"
   ]
  },
  {
   "cell_type": "code",
   "execution_count": 28,
   "id": "01597aeb",
   "metadata": {},
   "outputs": [
    {
     "data": {
      "text/plain": [
       "array([0.04594633, 0.01747393, 0.00233587])"
      ]
     },
     "execution_count": 28,
     "metadata": {},
     "output_type": "execute_result"
    }
   ],
   "source": [
    "results.eig"
   ]
  },
  {
   "cell_type": "code",
   "execution_count": 32,
   "id": "c822e387",
   "metadata": {},
   "outputs": [
    {
     "data": {
      "text/plain": [
       "True"
      ]
     },
     "execution_count": 32,
     "metadata": {},
     "output_type": "execute_result"
    }
   ],
   "source": [
    "all(results.cvm[0]) == all(results.max_eig_stat_crit_vals[0])"
   ]
  },
  {
   "cell_type": "code",
   "execution_count": 33,
   "id": "f7d8b4f4",
   "metadata": {},
   "outputs": [
    {
     "data": {
      "text/plain": [
       "array([0, 1, 2], dtype=int64)"
      ]
     },
     "execution_count": 33,
     "metadata": {},
     "output_type": "execute_result"
    }
   ],
   "source": [
    "results.ind"
   ]
  },
  {
   "cell_type": "code",
   "execution_count": 36,
   "id": "e757249c",
   "metadata": {},
   "outputs": [
    {
     "data": {
      "text/plain": [
       "array([12.0880841 ,  4.53049907,  0.60102007])"
      ]
     },
     "execution_count": 36,
     "metadata": {},
     "output_type": "execute_result"
    }
   ],
   "source": [
    "results.max_eig_stat"
   ]
  },
  {
   "cell_type": "code",
   "execution_count": null,
   "id": "a9a4724b",
   "metadata": {},
   "outputs": [],
   "source": []
  }
 ],
 "metadata": {
  "kernelspec": {
   "display_name": "Python 3 (ipykernel)",
   "language": "python",
   "name": "python3"
  },
  "language_info": {
   "codemirror_mode": {
    "name": "ipython",
    "version": 3
   },
   "file_extension": ".py",
   "mimetype": "text/x-python",
   "name": "python",
   "nbconvert_exporter": "python",
   "pygments_lexer": "ipython3",
   "version": "3.9.13"
  }
 },
 "nbformat": 4,
 "nbformat_minor": 5
}
